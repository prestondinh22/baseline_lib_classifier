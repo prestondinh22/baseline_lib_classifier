{
 "cells": [
  {
   "cell_type": "code",
   "execution_count": 3,
   "id": "76d3724f-f8dc-4ff0-931b-06f347923b6c",
   "metadata": {},
   "outputs": [
    {
     "name": "stdout",
     "output_type": "stream",
     "text": [
      "Vmax                             4.201335\n",
      "Vmin                             1.998985\n",
      "Vrange                            2.20235\n",
      "avg_temp_charge                 27.023618\n",
      "avg_temp_discharge              27.075022\n",
      "avg_temp_rest                   26.757374\n",
      "rest_voltage_after_discharge     2.610956\n",
      "dvdt_discharge                  -0.001516\n",
      "V_SOC_1                          3.750714\n",
      "V_SOC_2                          3.029672\n",
      "V_SOC_3                          3.547256\n",
      "V_SOC_4                          3.939055\n",
      "V_SOC_5                          3.390741\n",
      "chemistry                             NMC\n",
      "Name: 40, dtype: object\n"
     ]
    }
   ],
   "source": [
    "import pandas as pd\n",
    "import numpy as np\n",
    "from dataframe import *\n",
    "\n",
    "print(features_df.iloc[40])\n"
   ]
  },
  {
   "cell_type": "code",
   "execution_count": 4,
   "id": "f63fdce5-9f67-42ac-8b42-55e480974cd9",
   "metadata": {},
   "outputs": [
    {
     "name": "stdout",
     "output_type": "stream",
     "text": [
      "Accuracy: 1.0\n",
      "Confusion Matrix:\n",
      " [[13  0]\n",
      " [ 0 11]]\n",
      "Classification Report:\n",
      "               precision    recall  f1-score   support\n",
      "\n",
      "         LCO       1.00      1.00      1.00        13\n",
      "         NMC       1.00      1.00      1.00        11\n",
      "\n",
      "    accuracy                           1.00        24\n",
      "   macro avg       1.00      1.00      1.00        24\n",
      "weighted avg       1.00      1.00      1.00        24\n",
      "\n",
      "                         feature  importance\n",
      "6   rest_voltage_after_discharge    0.209069\n",
      "3                avg_temp_charge    0.138864\n",
      "1                           Vmin    0.128194\n",
      "0                           Vmax    0.092031\n",
      "4             avg_temp_discharge    0.072835\n",
      "7                 dvdt_discharge    0.065887\n",
      "2                         Vrange    0.064451\n",
      "5                  avg_temp_rest    0.061688\n",
      "8                        V_SOC_1    0.055382\n",
      "10                       V_SOC_3    0.038717\n",
      "12                       V_SOC_5    0.030802\n",
      "11                       V_SOC_4    0.026333\n",
      "9                        V_SOC_2    0.015746\n"
     ]
    }
   ],
   "source": [
    "\n",
    "from sklearn.impute import SimpleImputer\n",
    "from sklearn.model_selection import train_test_split\n",
    "from sklearn.ensemble import RandomForestClassifier\n",
    "from sklearn.metrics import accuracy_score, confusion_matrix, classification_report\n",
    "\n",
    "X = features_df.drop(columns=[\"chemistry\"]) \n",
    "y = features_df[\"chemistry\"]\n",
    "\n",
    "imputer = SimpleImputer(strategy=\"mean\")\n",
    "X_imputed = imputer.fit_transform(X)\n",
    "\n",
    "\n",
    "X_train, X_test, y_train, y_test = train_test_split(X_imputed, y, test_size=0.4, random_state=9)\n",
    "rf = RandomForestClassifier(n_estimators=100, random_state=9)\n",
    "rf.fit(X_train, y_train)\n",
    "y_pred = rf.predict(X_test)\n",
    "\n",
    "print(\"Accuracy:\", accuracy_score(y_test, y_pred))\n",
    "print(\"Confusion Matrix:\\n\", confusion_matrix(y_test, y_pred))\n",
    "print(\"Classification Report:\\n\", classification_report(y_test, y_pred))\n",
    "importance_df = pd.DataFrame({\n",
    "    \"feature\": X.columns,\n",
    "    \"importance\": rf.feature_importances_\n",
    "}).sort_values(by=\"importance\", ascending=False)\n",
    "\n",
    "print(importance_df)\n",
    "\n"
   ]
  },
  {
   "cell_type": "code",
   "execution_count": null,
   "id": "af75d5aa-adf5-4919-a36e-e533d485e48c",
   "metadata": {},
   "outputs": [],
   "source": []
  },
  {
   "cell_type": "code",
   "execution_count": null,
   "id": "b78eb955-8387-462a-9204-8229465c7811",
   "metadata": {},
   "outputs": [],
   "source": []
  },
  {
   "cell_type": "code",
   "execution_count": null,
   "id": "3b4c3476-5e3e-478a-ae1d-53767a85a483",
   "metadata": {},
   "outputs": [],
   "source": []
  },
  {
   "cell_type": "code",
   "execution_count": null,
   "id": "5b8893e8-40e6-4e97-bb08-5d2b8bccaeef",
   "metadata": {},
   "outputs": [],
   "source": []
  }
 ],
 "metadata": {
  "kernelspec": {
   "display_name": "Python 3 (ipykernel)",
   "language": "python",
   "name": "python3"
  },
  "language_info": {
   "codemirror_mode": {
    "name": "ipython",
    "version": 3
   },
   "file_extension": ".py",
   "mimetype": "text/x-python",
   "name": "python",
   "nbconvert_exporter": "python",
   "pygments_lexer": "ipython3",
   "version": "3.12.3"
  }
 },
 "nbformat": 4,
 "nbformat_minor": 5
}
